{
 "cells": [
  {
   "cell_type": "code",
   "execution_count": 1,
   "metadata": {},
   "outputs": [],
   "source": [
    "#1.加载数据\n",
    "from langchain.document_loaders import PyPDFLoader\n",
    "\n",
    "loader = PyPDFLoader(\"https://arxiv.org/pdf/2309.10305.pdf\")\n",
    "\n",
    "pages = loader.load_and_split()"
   ]
  },
  {
   "cell_type": "code",
   "execution_count": 1,
   "metadata": {},
   "outputs": [],
   "source": [
    "from langchain.document_loaders import TextLoader\n",
    "\n",
    "# 使用 TextLoader 来加载 TXT 文件\n",
    "loader = TextLoader(\"初中九年级化学实验.txt\")\n",
    "\n",
    "# 加载和分割文本内容\n",
    "pages = loader.load_and_split()"
   ]
  },
  {
   "cell_type": "code",
   "execution_count": 2,
   "metadata": {},
   "outputs": [
    {
     "data": {
      "text/plain": [
       "Document(metadata={'source': '初中九年级化学实验.txt'}, page_content='【水的沸腾】：准备一个烧杯，加入适量的水。将烧杯放在酒精灯或电热板上加热。观察水的温度变化，并用温度计记录数据。观察水开始冒泡的现象，记录水沸腾的温度（100°C）。\\n\\n【胆矾的研碎】：取适量胆矾（硫酸铜晶体）放入研钵中。使用研杵轻轻按压和研磨胆矾，直到其变成粉末状态为止。观察研碎后的胆矾外观，记录其颜色和质地的变化。\\n\\n【往硫酸铜溶液中滴加氢氧化钠溶液】：准备一个试管，加入适量的硫酸铜溶液（蓝色）。使用滴管，慢慢向试管中滴加氢氧化钠溶液。观察反应现象，记录氢氧化钠溶液加入后的颜色变化（出现蓝色沉淀）。\\n\\n【石灰石与盐酸的反应】：将适量的石灰石（碳酸钙）放入一个烧杯或试管中。向烧杯中滴加适量的盐酸（稀盐酸）。观察反应，记录气泡产生的情况（二氧化碳气体的生成）。可以用气体产生的泡沫去检验不再产生泡沫时的反应完成度。\\n\\n【氧气和二氧化碳的有关性质】：准备一个装有氧气的试管和一个装有二氧化碳的试管。取一根易燃物（如火柴或蜡烛），将其点燃。将点燃的易燃物放入装有氧气的试管中，观察燃烧现象（燃烧加剧）。将点燃的易燃物放入装有二氧化碳的试管中，观察现象（火焰熄灭）。记录观察到的氧气和二氧化碳的性质以及它们对燃烧的影响。\\n\\n【固体药品的取用】 : 首先，准备好所需的固体药品和药匙，确保药品在清洁的实验环境中使用。然后，打开药品的容器，用干净的药匙轻轻搅拌药品，确保其均匀。接着，用药匙小心地取出适量药品，观察药品的性质（如颜色、颗粒大小等），最后将取用的药品放入干净的容器中，避免交叉污染，并将未用完的药品按照实验室规定妥善保存。\\n\\n【在澄清石灰水中滴加酚酞溶液】 : 先准备一个装有澄清石灰水的试管，然后用滴管吸取适量的酚酞溶液。接着，将酚酞溶液缓慢滴加到石灰水中，观察溶液颜色的变化。当酚酞溶液与石灰水反应后，如果石灰水变为桃红色，说明其为碱性溶液。\\n\\n【在大理石或碳酸钠粉末中加入稀盐酸】 : 取适量的大理石或碳酸钠粉末放入一个试管中，随后用量筒或滴管吸取适量稀盐酸。将稀盐酸缓慢倒入试管中，观察反应现象，注意观察是否有气泡产生，记录反应的剧烈程度及气泡数量，反应完毕后，确保安全处理试管中的物质。\\n\\n【观察酒精灯火焰；将火柴梗平放如火焰中】 : 首先，准备一个酒精灯，打开灯芯并点燃，观察火焰的形状和颜色。接着，取一根火柴梗，将其平放在火焰中，观察火柴梗的燃烧情况，记录火焰的状态以及火柴梗燃烧的效果，如火焰的温度和颜色变化。\\n\\n【在氢氧化钠溶液中滴入硫酸铜溶液后加热】 : 首先，在烧杯中加入适量氢氧化钠溶液。然后，使用滴管吸取适量的硫酸铜溶液，缓慢滴入氢氧化钠溶液中，观察反应并记录反应的颜色变化。接着，将烧杯放置在电热板上加热，观察加热后的反应现象，记录任何沉淀的生成情况。\\n\\n【连接装置并检查装置的气密性】 : 准备所有所需的装置和连接管。按照实验要求将各个部件连接起来，确保连接紧密。检查连接处是否有漏气现象，可以用湿润的手指触摸连接点，如有气泡产生表示有漏气。确保设备的气密性后，可以进行后续的实验步骤。\\n\\n【洗涤玻璃仪器】 : 首先，准备需清洗的玻璃仪器（如试管、烧杯等），并在水槽中放入清水。然后，使用洗涤剂和刷子对玻璃仪器进行清洗，确保去除残留物。清洗完毕后，用干净的自来水彻底冲洗设备，直至没有洗涤剂的残留，最后倒置玻璃器具让其自然晾干。\\n\\n【测定空气中氧气的含量】 : 首先，准备一个装有适量氧化镁的试管，并在试管上方放置一个气体集气瓶。然后，用加热器加热试管中的氧化镁，直到其完全反应，形成氧化物。通过计算反应前后试管中气体的体积变化，来测定空气中氧气的含量，注意在整个过程中要防止气体的泄漏以保证结果的准确性。\\n\\n【带火星的木条复燃】 : 取一根干燥的木条，用火柴点燃并让其燃烧几秒钟，之后迅速将其放入一个装满氧气的瓶中。观察木条的状态，注意是否会复燃，并记录复燃的现象及时间，比较在开放空气与氧气环境中木条的燃烧情况。\\n\\n【硫分别在空气和氧气里燃烧】 : 首先，准备两支试管，一支装有空气，另一支装有纯氧气。取适量硫磺，点燃后迅速放入试管中。观察并记录硫在空气中的燃烧情况以及在氧气中的燃烧现象，比较两者的火焰颜色、光亮程度及燃烧速度。\\n\\n【细铁丝在空气中红热，在氧气中剧烈燃烧】 : 取一根细铁丝，将其一端固定在夹具上，然后用酒精灯或其他加热源加热铁丝，使其变红。当铁丝在空气中红热时，观察其发出的光和热。接着，将红热的铁丝迅速放入纯氧气的环境中，观察其燃烧的剧烈程度，记录反应中的变化。注意在进行此实验时要保持安全距离，避免烫伤或火灾。\\n\\n【加热高锰酸钾制取氧气】 : 首先，准备一个干燥的试管，加入适量的高锰酸钾，并将试管固定在试管夹中。然后，将试管放置在一个加热器上，缓慢加热高锰酸钾，观察反应过程中是否有气体产生。使用水槽收集气体，若有气泡生成，则说明在加热过程中产生了氧气。此过程需要持续加热，直到不再有气泡出现，最后安全地处理反应后的残留物。\\n\\n【品红在水中扩散】 : 首先，准备一个透明的量杯，注入适量的清水。然后，取少量品红溶液，用吸管或滴管轻轻滴入水中，观察滴入后的颜色变化。记录品红溶液在水中的扩散过程，随着时间的推移，观察颜色的均匀程度及扩散范围的增长，注意观察扩散速度与水温等因素的关系。\\n\\n【向浑浊的水中加入明矾粉末】 : 首先，取一杯浑浊的水，并准备适量的明矾粉末。然后，缓慢地将明矾粉末加入浑浊水中，轻轻搅拌使其充分溶解。观察混合后水的变化，记录明矾与水的反应过程以及水的澄清程度，注意反应过程中的沉淀情况。\\n\\n【过滤】 : 首先，准备好一套过滤装置，包括漏斗和滤纸。将滤纸放入漏斗中，并将漏斗置于干净的收集容器上。然后，将加入明矾前的浑浊水缓慢倒入滤纸中，观察过滤后的水和滤纸上的沉淀物，记录过滤的效率和结果，分析水的净化效果。\\n\\n【用肥皂水区分软水和硬水】 : 首先，准备两杯水，一杯为软水，一杯为硬水。然后，向每杯水中分别加入适量的肥皂水，并用搅拌棒轻轻搅拌。观察水中的泡沫情况，记录软水与硬水的泡沫产生情况和稳定性，分析肥皂在软水和硬水中的效果差异。\\n\\n【实验室制取蒸馏水】 : 首先，准备好蒸馏装置，包括圆底烧瓶和冷凝管。将待蒸馏的水或混合溶液倒入圆底烧瓶中，并确保连接部分气密。然后，用加热器加热烧瓶中的液体，观察蒸气的产生并随其凝结成液体流入接收容器中，记录蒸馏水的收集量和质量。\\n\\n【氢气在空气里的燃烧】 : 首先，准备一个装有氢气的试管，并确保试管内有适量的氢气。用木条或其他点火器具点燃一根引火条，然后迅速将其放入试管中。观察氢气在空气中的燃烧现象，并记录火焰颜色、声音（如“嘭”的一声）和温度变化，分析氢气燃烧的特点。\\n\\n【盐酸与碳酸钠粉末反应前后质量的测定】 : 首先，称量适量的碳酸钠粉末并记录其质量，然后将其放入一个干燥的烧杯中。接着，逐渐往烧杯中加入适量的盐酸，观察反应现象（如气泡产生等），并在反应完成后再次称量烧杯中的剩余固体和液体，记录反应前后质量的变化，分析质量守恒定律。\\n\\n【镁条燃烧前后质量的测定】 : 首先，准备一根镁条并称量记录其质量。然后，用点火器具点燃镁条，并将其放在一个干燥的烧杯中，观察镁条燃烧的现象（如光亮和烟雾）。燃烧结束后，等待冷却，再次称量烧杯中生成的白色粉末（氧化镁）和杯子的质量，记录并分析镁燃烧前后质量的变化。\\n\\n【在加入红墨水的水里投入木炭】 : 首先，准备一个透明的容器，倒入适量的水并加入少量红墨水，搅拌均匀，使水呈红色。然后，取适量木炭，直接投入红墨水水中。观察木炭与水的反应过程，记录木炭对水颜色的影响及红墨水的扩散现象。\\n\\n【用木炭还原氧化铜】 : 首先，准备一个干燥的坩埚，并在其内放入适量氧化铜。然后，在坩埚上方放置木炭，确保两者接触良好。使用酒精灯或其他加热设备对坩埚进行加热，观察反应过程中的颜色变化，并记录反应后生成的物质特征，分析木炭还原氧化铜的效果。\\n\\n【倾倒二氧化碳】 : 首先，准备一个装有二氧化碳的气体瓶，并确保气密性良好。准备一个透明的容器，用来收集流出的二氧化碳气体。轻轻打开气体瓶的阀门，观察气体的释放情况，记录二氧化碳的气泡和流动特征，分析其在空气中的行为。\\n\\n【二氧化碳的溶解性实验】 : 首先，准备一个装有水的透明容器（如量杯），接着，往水中缓慢倾倒适量二氧化碳，观察气体在水中的溶解情况。记录气泡消失的速度和水的变化（例如水的酸性变化），分析二氧化碳的溶解性特点。\\n\\n【二氧化碳与水的反应】 : 首先，准备一小瓶水和一瓶二氧化碳气体，确保气体瓶气密。然后，向水中缓慢注入二氧化碳，观察反应并记录溶液的变化，例如是否出现气泡和酸性变化。分析二氧化碳和水的反应生成碳酸的过程。\\n\\n【燃烧条件的实验】 : 首先，准备几个已点燃的蜡烛和不同的条件（如有/无氧气的环境）。观察蜡烛在不同条件下的燃烧情况，并记录蜡烛的燃烧时间和火焰的特征，分析燃烧所需的条件（如氧气和温度）。\\n\\n【粉尘爆炸实验】 : 首先，准备干燥的粉尘（如面粉或木屑），在安全的环境中进行实验。然后，在容器中放入适量的粉尘，并用点火器具点燃，观察其爆炸现象和强度，记录不同粉尘粒径和浓度对爆炸效果的影响，确保安全距离。\\n\\n【生石灰与水反应放出热量】 : 首先，准备适量的生石灰和水，和一个能够容纳两者的容器。然后，缓慢将生石灰加入水中，观察反应现象和发热情况。记录实验过程中温度的变化，分析生石灰与水反应放热的效果和程度。\\n\\n【甲烷的燃烧】 : 首先，准备一个装有甲烷气体的试管或气体瓶。然后，用火柴或打火机点燃气体，观察甲烷燃烧的火焰情况与产生的产品，记录火焰颜色、声音，以及燃烧后是否产生水蒸气和二氧化碳，分析甲烷燃烧的特点。')"
      ]
     },
     "execution_count": 2,
     "metadata": {},
     "output_type": "execute_result"
    }
   ],
   "source": [
    "pages[0]"
   ]
  },
  {
   "cell_type": "code",
   "execution_count": 14,
   "metadata": {},
   "outputs": [
    {
     "data": {
      "text/plain": [
       "47.324561403508774"
      ]
     },
     "execution_count": 14,
     "metadata": {},
     "output_type": "execute_result"
    }
   ],
   "source": [
    "with open(\"初中九年级化学实验.txt\", 'r', encoding='utf-8') as file:\n",
    "    lines = file.readlines()  # 读取所有行\n",
    "\n",
    "line_lengths = [len(line.strip()) for line in lines]  # 去掉每行首尾的空白字符，计算长度\n",
    "average_length = sum(line_lengths) / len(line_lengths)  # 计算平均长度\n",
    "average_length"
   ]
  },
  {
   "cell_type": "code",
   "execution_count": 18,
   "metadata": {},
   "outputs": [
    {
     "data": {
      "text/plain": [
       "0.0"
      ]
     },
     "execution_count": 18,
     "metadata": {},
     "output_type": "execute_result"
    }
   ],
   "source": [
    "import statistics\n",
    "statistics.median(line_lengths)"
   ]
  },
  {
   "cell_type": "code",
   "execution_count": 45,
   "metadata": {},
   "outputs": [],
   "source": [
    "#2.知识切片 将文档分割成均匀的块。每个块是一段原始文本\n",
    "from langchain.text_splitter import RecursiveCharacterTextSplitter\n",
    "\n",
    "text_splitter = RecursiveCharacterTextSplitter(\n",
    "    chunk_size = 140,\n",
    "    chunk_overlap = 14,\n",
    ")\n",
    "\n",
    "docs = text_splitter.split_documents(pages)"
   ]
  },
  {
   "cell_type": "code",
   "execution_count": 46,
   "metadata": {},
   "outputs": [
    {
     "data": {
      "text/plain": [
       "114"
      ]
     },
     "execution_count": 46,
     "metadata": {},
     "output_type": "execute_result"
    }
   ],
   "source": [
    "len(docs)"
   ]
  },
  {
   "cell_type": "code",
   "execution_count": null,
   "metadata": {},
   "outputs": [],
   "source": [
    "from langchain.embeddings.openai import OpenAIEmbeddings\n",
    "from langchain.vectorstores import Chroma\n",
    "import os\n",
    "\n",
    "\n",
    "embed_model = OpenAIEmbeddings(\n",
    "    openai_api_key=os.getenv(\"OPENAI_API_KEY\"),\n",
    "    openai_api_base=\"https://api.chatanywhere.tech/v1\"\n",
    ")\n"
   ]
  },
  {
   "cell_type": "code",
   "execution_count": 47,
   "metadata": {},
   "outputs": [],
   "source": [
    "vectorstore1 = Chroma.from_documents(documents=docs, embedding=embed_model , collection_name=\"openai_embed2\",persist_directory=\"task_data\")"
   ]
  },
  {
   "cell_type": "code",
   "execution_count": 24,
   "metadata": {},
   "outputs": [],
   "source": [
    "query =   \"\"\"操作1：检查装置气密性\n",
    "        用火柴1点燃酒精灯，观察导管口是否会有连续、均匀气泡冒出 。\n",
    "\n",
    "        操作2：熄灭酒精灯进行正式制取实验过程\n",
    "        将酒精灯帽盖在酒精灯上。\n",
    "\n",
    "        操作3：取药品\n",
    "        打开装有高猛酸钾的塞，用药匙取高猛酸钾\n",
    "\n",
    "        操作4：装药品\n",
    "        将高锰酸钾药品平铺在试管底部，管口放一小团棉花，用带导管的单孔橡皮塞塞紧试管口。并固定在铁架台上\n",
    "\n",
    "        操作5：点燃酒精灯加热\n",
    "        用火柴2点燃酒精灯\n",
    "\n",
    "        操作6：观察导管口是否会有连续、均匀气泡冒出，利用集气瓶收集气体\n",
    "        操作7：实验结束\n",
    "        \"\"\""
   ]
  },
  {
   "cell_type": "code",
   "execution_count": 50,
   "metadata": {},
   "outputs": [
    {
     "data": {
      "text/plain": [
       "[Document(metadata={'source': '初中九年级化学实验.txt'}, page_content='首先，准备一个干燥的试管，加入适量的高锰酸钾，并将试管固定在试管夹中。然后，将试管放置在一个加热器上，缓慢加热高锰酸钾，观察反应过程中是否有气体产生。使用水槽收集气体，若有气泡生成，则说明在加热过程中产生了氧气。此过程需要持续加热，直到不再有气泡出现，最后安全地处理反应后的残留'),\n",
       " Document(metadata={'source': '初中九年级化学实验.txt'}, page_content='【观察酒精灯火焰；将火柴梗平放如火焰中】 : 首先，准备一个酒精灯，打开灯芯并点燃，观察火焰的形状和颜色。接着，取一根火柴梗，将其平放在火焰中，观察火柴梗的燃烧情况，记录火焰的状态以及火柴梗燃烧的效果，如火焰的温度和颜色变化。'),\n",
       " Document(metadata={'source': '初中九年级化学实验.txt'}, page_content='【分解过氧化氢溶液制取氧气】 : 在试管中加入过氧化氢，并加入二氧化锰作为催化剂，观察气体生成并记录气泡的数量和速度，分析反应特点及生成气体的性质。\\n\\n【加热氯酸钾制取氧气】 : 准备氯酸钾放入耐热容器中，加热至其分解，观察气体的产生，记录反应现象，分析获得的氧气的性质。')]"
      ]
     },
     "execution_count": 50,
     "metadata": {},
     "output_type": "execute_result"
    }
   ],
   "source": [
    "vectorstore1.similarity_search(query ,k = 3)"
   ]
  },
  {
   "cell_type": "code",
   "execution_count": null,
   "metadata": {},
   "outputs": [
    {
     "name": "stderr",
     "output_type": "stream",
     "text": [
      "C:\\Users\\ye_kkk\\AppData\\Local\\Temp\\ipykernel_43808\\3760694070.py:1: LangChainDeprecationWarning: The class `Chroma` was deprecated in LangChain 0.2.9 and will be removed in 1.0. An updated version of the class exists in the :class:`~langchain-chroma package and should be used instead. To use it run `pip install -U :class:`~langchain-chroma` and import as `from :class:`~langchain_chroma import Chroma``.\n",
      "  vectorstore_test = Chroma(persist_directory=\"task_data\", embedding_function=embed_model, collection_name=\"openai_embed\")\n"
     ]
    }
   ],
   "source": [
    "vectorstore_test = Chroma(persist_directory=\"task_data\", embedding_function=embed_model, collection_name=\"openai_embed\")"
   ]
  },
  {
   "cell_type": "code",
   "execution_count": 13,
   "metadata": {},
   "outputs": [
    {
     "data": {
      "text/plain": [
       "[Document(metadata={'source': '初中九年级化学实验.txt'}, page_content='【水的沸腾】：准备一个烧杯，加入适量的水。将烧杯放在酒精灯或电热板上加热。观察水的温度变化，并用温度计记录数据。观察水开始冒泡的现象，记录水沸腾的温度（100°C）。\\n\\n【胆矾的研碎】：取适量胆矾（硫酸铜晶体）放入研钵中。使用研杵轻轻按压和研磨胆矾，直到其变成粉末状态为止。观察研碎后的胆矾外观，记录其颜色和质地的变化。\\n\\n【往硫酸铜溶液中滴加氢氧化钠溶液】：准备一个试管，加入适量的硫酸铜溶液（蓝色）。使用滴管，慢慢向试管中滴加氢氧化钠溶液。观察反应现象，记录氢氧化钠溶液加入后的颜色变化（出现蓝色沉淀）。\\n\\n【石灰石与盐酸的反应】：将适量的石灰石（碳酸钙）放入一个烧杯或试管中。向烧杯中滴加适量的盐酸（稀盐酸）。观察反应，记录气泡产生的情况（二氧化碳气体的生成）。可以用气体产生的泡沫去检验不再产生泡沫时的反应完成度。'),\n",
       " Document(metadata={'source': '初中九年级化学实验.txt'}, page_content='【鲜花变色】 : 准备白色鲜花、清水和食用色素。将食用色素加入水中，待其溶解后，将花茎切口插入溶液中，观察鲜花的颜色变化，记录不同颜色的吸收效果，分析花朵吸水的情况。\\n\\n【制作“叶脉书签”】 : 准备一些树叶，使用水以去除叶肉。将去除肉的叶脉放入清水中，等待几天晾干后。记录叶脉的完整状态，制作书签，并观察和讨论它的美观与用途。\\n\\n【有关保鲜膜的实验】 : 准备一些食物和不同类型的保鲜膜。记录每种保鲜膜包裹食物后的保鲜效果（如水分流失、变质程度等），比较保鲜膜的优劣，分析其原理。\\n\\n【液体药品的取用】 : 准备量筒、气囊和液体药品。用量筒量取所需液体，用气囊无污染地转移到另一个容器中，观察和记录寒温度影响下药品的性质变化。\\n\\n【酒精灯的使用方法】 : 先检查酒精灯的燃料是否充足，点燃酒精灯，观察灯火焰的形状和颜色。确保其放置在安全的位置，记录火焰的高低、温度等，学习如何安全使用酒精灯。\\n\\n【托盘天平的使用方法】 : 准备一个托盘天平和一些标准物质。依次将标准平方米放在天平上，学习如何进行称量及其调整过程，记录测量的准确性及误差来源。')]"
      ]
     },
     "execution_count": 13,
     "metadata": {},
     "output_type": "execute_result"
    }
   ],
   "source": [
    "vectorstore_test.similarity_search(query ,k = 2)"
   ]
  },
  {
   "cell_type": "code",
   "execution_count": 17,
   "metadata": {},
   "outputs": [],
   "source": [
    "#没有openaikey\n",
    "#1.embeding模型\n",
    "#2.chat模型\n",
    "from langchain.embeddings import HuggingFaceEmbeddings\n",
    "from langchain.vectorstores import Chroma\n",
    "\n",
    "model_name = \"sentence-transformers/sentence-t5-large\"\n"
   ]
  },
  {
   "cell_type": "code",
   "execution_count": 18,
   "metadata": {},
   "outputs": [],
   "source": [
    "embedding = HuggingFaceEmbeddings(model_name=model_name)"
   ]
  },
  {
   "cell_type": "code",
   "execution_count": 19,
   "metadata": {},
   "outputs": [],
   "source": [
    "vectorstore_hf1 = Chroma.from_documents(documents=docs, embedding=embedding , collection_name=\"huggingface_embed\",persist_directory=\"chroma_data1\")"
   ]
  },
  {
   "cell_type": "code",
   "execution_count": 20,
   "metadata": {},
   "outputs": [
    {
     "data": {
      "text/plain": [
       "[Document(page_content='【乙醇能溶解在水中】 : 首先，准备一个量杯，倒入适量的水。然后，取适量乙醇，缓慢加入水中。观察乙醇与水混合的情况，记录混合后的颜色和清澈度变化，以判断乙醇的溶解性，并分析其物理性质。\\n\\n【乳浊液的形成和乳化现象】 : 首先，准备一个透明的容器，加入适量的水，并向其中添加一些油。然后，用搅拌器或搅拌棒来搅拌混合物，观察乳浊液的形成。记录乳浊液的颜色和粘度变化，分析乳化现象的性质以及其形成的条件。\\n\\n【氯化钠在水中的溶解】 : 首先，准备一个透明的量杯，倒入适量的水。然后，取适量的氯化钠，缓慢地加入水中，并用搅拌棒轻轻搅拌。观察氯化钠在水中的溶解情况，记录溶解速率和完成后的溶液透明度，以分析氯化钠的溶解性质。\\n\\n【硝酸钾在水中的溶解】 : 首先，准备一个透明的量杯，加入适量的水。然后，取适量硝酸钾，缓慢地加入水中，同时用搅拌棒轻轻搅拌。观察硝酸钾的溶解过程，记录并分析完成后的溶液透明度及溶解速率。', metadata={'source': '初中九年级化学实验.txt'}),\n",
       " Document(page_content='【向浑浊的水中加入明矾粉末】 : 首先，取一杯浑浊的水，并准备适量的明矾粉末。然后，缓慢地将明矾粉末加入浑浊水中，轻轻搅拌使其充分溶解。观察混合后水的变化，记录明矾与水的反应过程以及水的澄清程度，注意反应过程中的沉淀情况。\\n\\n【过滤】 : 首先，准备好一套过滤装置，包括漏斗和滤纸。将滤纸放入漏斗中，并将漏斗置于干净的收集容器上。然后，将加入明矾前的浑浊水缓慢倒入滤纸中，观察过滤后的水和滤纸上的沉淀物，记录过滤的效率和结果，分析水的净化效果。\\n\\n【用肥皂水区分软水和硬水】 : 首先，准备两杯水，一杯为软水，一杯为硬水。然后，向每杯水中分别加入适量的肥皂水，并用搅拌棒轻轻搅拌。观察水中的泡沫情况，记录软水与硬水的泡沫产生情况和稳定性，分析肥皂在软水和硬水中的效果差异。\\n\\n【实验室制取蒸馏水】 : 首先，准备好蒸馏装置，包括圆底烧瓶和冷凝管。将待蒸馏的水或混合溶液倒入圆底烧瓶中，并确保连接部分气密。然后，用加热器加热烧瓶中的液体，观察蒸气的产生并随其凝结成液体流入接收容器中，记录蒸馏水的收集量和质量。', metadata={'source': '初中九年级化学实验.txt'})]"
      ]
     },
     "execution_count": 20,
     "metadata": {},
     "output_type": "execute_result"
    }
   ],
   "source": [
    "resultn = vectorstore_hf1.similarity_search(query ,k = 2)\n",
    "resultn"
   ]
  },
  {
   "cell_type": "code",
   "execution_count": 23,
   "metadata": {},
   "outputs": [],
   "source": [
    "vectorstore_hf = Chroma.from_documents(documents=docs, embedding=embedding , collection_name=\"huggingface_embed\",persist_directory=\"chroma_data\")"
   ]
  },
  {
   "cell_type": "code",
   "execution_count": 5,
   "metadata": {},
   "outputs": [],
   "source": [
    "query = \"How large is the baichuan2 vocabulary?\""
   ]
  },
  {
   "cell_type": "code",
   "execution_count": 25,
   "metadata": {},
   "outputs": [],
   "source": [
    "result = vectorstore_hf.similarity_search(query ,k = 2)"
   ]
  },
  {
   "cell_type": "code",
   "execution_count": 26,
   "metadata": {},
   "outputs": [
    {
     "name": "stdout",
     "output_type": "stream",
     "text": [
      "[Document(page_content='languages, such as Chinese.\\nIn this technical report, we introduce Baichuan\\n2, a series of large-scale multilingual language\\nmodels. Baichuan 2 has two separate models,\\nBaichuan 2-7B with 7 billion parameters and\\nBaichuan 2-13B with 13 billion parameters. Both\\nmodels were trained on 2.6 trillion tokens, which\\nto our knowledge is the largest to date, more than\\ndouble that of Baichuan 1 (Baichuan, 2023b,a).\\nWith such a massive amount of training data,', metadata={'page': 1, 'source': 'C:\\\\Users\\\\ye_kkk\\\\AppData\\\\Local\\\\Temp\\\\tmp_2u6nnkm\\\\tmp.pdf'}), Document(page_content='languages, such as Chinese.\\nIn this technical report, we introduce Baichuan\\n2, a series of large-scale multilingual language\\nmodels. Baichuan 2 has two separate models,\\nBaichuan 2-7B with 7 billion parameters and\\nBaichuan 2-13B with 13 billion parameters. Both\\nmodels were trained on 2.6 trillion tokens, which\\nto our knowledge is the largest to date, more than\\ndouble that of Baichuan 1 (Baichuan, 2023b,a).\\nWith such a massive amount of training data,', metadata={'page': 1, 'source': 'C:\\\\Users\\\\ye_kkk\\\\AppData\\\\Local\\\\Temp\\\\tmp_2u6nnkm\\\\tmp.pdf'})]\n"
     ]
    }
   ],
   "source": [
    "print(result)"
   ]
  },
  {
   "cell_type": "code",
   "execution_count": 6,
   "metadata": {},
   "outputs": [],
   "source": [
    "vectorstore = Chroma(persist_directory=\"chroma_data\", embedding_function=embedding, collection_name=\"huggingface_embed\")\n"
   ]
  },
  {
   "cell_type": "code",
   "execution_count": 34,
   "metadata": {},
   "outputs": [
    {
     "data": {
      "text/plain": [
       "<langchain.vectorstores.chroma.Chroma at 0x18c03685a90>"
      ]
     },
     "execution_count": 34,
     "metadata": {},
     "output_type": "execute_result"
    }
   ],
   "source": [
    "vectorstore"
   ]
  },
  {
   "cell_type": "code",
   "execution_count": 31,
   "metadata": {},
   "outputs": [
    {
     "data": {
      "text/plain": [
       "<langchain.vectorstores.chroma.Chroma at 0x18c03685880>"
      ]
     },
     "execution_count": 31,
     "metadata": {},
     "output_type": "execute_result"
    }
   ],
   "source": [
    "vectorstore_hf"
   ]
  },
  {
   "cell_type": "code",
   "execution_count": 7,
   "metadata": {},
   "outputs": [],
   "source": [
    "result1 = vectorstore.similarity_search(query ,k = 2)"
   ]
  },
  {
   "cell_type": "code",
   "execution_count": 8,
   "metadata": {},
   "outputs": [
    {
     "name": "stdout",
     "output_type": "stream",
     "text": [
      "[Document(page_content='languages, such as Chinese.\\nIn this technical report, we introduce Baichuan\\n2, a series of large-scale multilingual language\\nmodels. Baichuan 2 has two separate models,\\nBaichuan 2-7B with 7 billion parameters and\\nBaichuan 2-13B with 13 billion parameters. Both\\nmodels were trained on 2.6 trillion tokens, which\\nto our knowledge is the largest to date, more than\\ndouble that of Baichuan 1 (Baichuan, 2023b,a).\\nWith such a massive amount of training data,', metadata={'page': 1, 'source': 'C:\\\\Users\\\\ye_kkk\\\\AppData\\\\Local\\\\Temp\\\\tmp_2u6nnkm\\\\tmp.pdf'}), Document(page_content='languages, such as Chinese.\\nIn this technical report, we introduce Baichuan\\n2, a series of large-scale multilingual language\\nmodels. Baichuan 2 has two separate models,\\nBaichuan 2-7B with 7 billion parameters and\\nBaichuan 2-13B with 13 billion parameters. Both\\nmodels were trained on 2.6 trillion tokens, which\\nto our knowledge is the largest to date, more than\\ndouble that of Baichuan 1 (Baichuan, 2023b,a).\\nWith such a massive amount of training data,', metadata={'page': 1, 'source': 'C:\\\\Users\\\\ye_kkk\\\\AppData\\\\Local\\\\Temp\\\\tmp_2u6nnkm\\\\tmp.pdf'})]\n"
     ]
    }
   ],
   "source": [
    "print(result1)"
   ]
  }
 ],
 "metadata": {
  "kernelspec": {
   "display_name": "base",
   "language": "python",
   "name": "python3"
  },
  "language_info": {
   "codemirror_mode": {
    "name": "ipython",
    "version": 3
   },
   "file_extension": ".py",
   "mimetype": "text/x-python",
   "name": "python",
   "nbconvert_exporter": "python",
   "pygments_lexer": "ipython3",
   "version": "3.11.7"
  }
 },
 "nbformat": 4,
 "nbformat_minor": 2
}
