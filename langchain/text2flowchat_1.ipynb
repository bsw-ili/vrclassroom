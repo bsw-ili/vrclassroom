{
 "cells": [
  {
   "cell_type": "code",
   "execution_count": 1,
   "metadata": {},
   "outputs": [],
   "source": [
    "import os\n",
    "openai_api_key = os.getenv(\"OPENAI_API_KEY\")"
   ]
  },
  {
   "cell_type": "code",
   "execution_count": 2,
   "metadata": {},
   "outputs": [],
   "source": [
    "from langchain_openai import ChatOpenAI\n",
    "from langchain.chains import LLMChain\n",
    "from langchain.prompts import PromptTemplate\n",
    "from langchain.chains.sequential import SequentialChain\n",
    "\n",
    "llm = ChatOpenAI(\n",
    "    model=\"gpt-4-turbo\",\n",
    "    temperature=0,\n",
    "    max_tokens=None,\n",
    "    timeout=None,\n",
    "    max_retries=2,\n",
    "    api_key = openai_api_key,\n",
    "    base_url= \"https://api.chatanywhere.tech/v1\"\n",
    "    # organization=\"...\",\n",
    "    # other params...\n",
    ")"
   ]
  },
  {
   "cell_type": "code",
   "execution_count": 6,
   "metadata": {},
   "outputs": [],
   "source": [
    "def experimental_steps_chain():\n",
    "    # 1. 定义第一个链：给出实验的步骤\n",
    "    experimental_template = \"我需要完成这个实验： {experimental}。请给出这个实验所需的步骤。\"  \n",
    "    experimental_prompt = PromptTemplate(input_variables=[\"experimental\"], template=experimental_template)      \n",
    "    experimental_chain = LLMChain(llm=llm, prompt=experimental_prompt, output_key=\"experimental_steps\")  \n",
    "\n",
    "    # 定义第二个链：基于上述实验步骤提取每个步骤中的物体和操作 \n",
    "    steps_template = \"根据实验步骤：{experimental_steps}，按照出现顺序提取（操作步骤，物体，操作，被操作物体）四元组\"  \n",
    "    steps_prompt = PromptTemplate(input_variables=[\"experimental_steps\"], template=steps_template)  \n",
    "    steps_chain = LLMChain(llm=llm, prompt=steps_prompt, output_key=\"steps\")  \n",
    "\n",
    "    # 串联两个链  \n",
    "    sequential_chain = SequentialChain(  \n",
    "        chains=[experimental_chain, steps_chain],  \n",
    "        input_variables=[\"experimental\"],  # 起始输入  \n",
    "        output_variables=[\"steps\"]  # 最终输出  \n",
    "    )  \n",
    "    return sequential_chain\n"
   ]
  },
  {
   "cell_type": "code",
   "execution_count": 7,
   "metadata": {},
   "outputs": [],
   "source": [
    "test_experimental_steps_chain = experimental_steps_chain()"
   ]
  },
  {
   "cell_type": "code",
   "execution_count": 8,
   "metadata": {},
   "outputs": [],
   "source": [
    "result = test_experimental_steps_chain.run(\"高锰酸钾制取氧气\")"
   ]
  },
  {
   "cell_type": "code",
   "execution_count": 27,
   "metadata": {},
   "outputs": [
    {
     "data": {
      "text/plain": [
       "'1. (准备设备, 三脚架, 放置, 稳定的工作台上)\\n2. (准备设备, 网眼, 放置, 三脚架上)\\n3. (准备设备, 烧杯或坩埚, 放置, 网眼上)\\n4. (装载高锰酸钾, 高锰酸钾晶体, 放入, 烧杯或坩埚中)\\n5. (设置导管, 导管, 连接, 烧杯口)\\n6. (设置导管, 导管, 连接, 水槽中的倒置烧杯或气体收集袋)\\n7. (加热, 酒精灯或煤气灯, 点燃, 无)\\n8. (加热, 火焰, 置于, 烧杯或坩埚下方)\\n9. (加热, 高锰酸钾, 观察, 变黑并开始分解)\\n10. (收集氧气, 氧气, 导入, 水槽中的倒置烧杯或气体收集袋中)\\n11. (结束加热, 火源, 熄灭, 无)\\n12. (实验后处理, 设备, 确保, 完全冷却后)\\n13. (实验后处理, 高锰酸钾残留物, 进行, 危险废物处理)'"
      ]
     },
     "execution_count": 27,
     "metadata": {},
     "output_type": "execute_result"
    }
   ],
   "source": [
    "result"
   ]
  }
 ],
 "metadata": {
  "kernelspec": {
   "display_name": "base",
   "language": "python",
   "name": "python3"
  },
  "language_info": {
   "codemirror_mode": {
    "name": "ipython",
    "version": 3
   },
   "file_extension": ".py",
   "mimetype": "text/x-python",
   "name": "python",
   "nbconvert_exporter": "python",
   "pygments_lexer": "ipython3",
   "version": "3.11.7"
  }
 },
 "nbformat": 4,
 "nbformat_minor": 2
}
