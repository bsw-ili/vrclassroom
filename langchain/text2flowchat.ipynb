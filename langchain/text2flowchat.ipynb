{
 "cells": [
  {
   "cell_type": "code",
   "execution_count": 1,
   "metadata": {},
   "outputs": [],
   "source": [
    "from openai import OpenAI\n",
    "import os\n",
    "\n",
    "client = OpenAI(\n",
    "    # defaults to os.environ.get(\"OPENAI_API_KEY\")\n",
    "    api_key=os.getenv(\"OPENAI_API_KEY\"),\n",
    "    base_url=\"https://api.chatanywhere.tech/v1\"\n",
    "    # base_url=\"https://api.chatanywhere.org/v1\"\n",
    ")"
   ]
  },
  {
   "cell_type": "code",
   "execution_count": 3,
   "metadata": {},
   "outputs": [],
   "source": [
    "response = client.chat.completions.create(\n",
    "    model=\"gpt-3.5-turbo\",\n",
    "    messages=[\n",
    "        {\"role\": \"user\", \"content\": f\"请将以下文本转换为步骤：\\n{text}\"}\n",
    "    ],\n",
    "    max_tokens=150,\n",
    "    temperature=0\n",
    ")"
   ]
  },
  {
   "cell_type": "code",
   "execution_count": 23,
   "metadata": {},
   "outputs": [],
   "source": [
    "text = \"\"\"操作1：检查装置气密性\n",
    "    用火柴1点燃酒精灯，观察导管口是否会有连续、均匀气泡冒出 。\n",
    "\n",
    "    操作2：熄灭酒精灯进行正式制取实验过程\n",
    "    将酒精灯帽盖在酒精灯上。\n",
    "\n",
    "    操作3：取药品\n",
    "    打开装有高猛酸钾的塞，用药匙取高猛酸钾\n",
    "\n",
    "    操作4：装药品\n",
    "    将高锰酸钾药品平铺在试管底部，管口放一小团棉花，用带导管的单孔橡皮塞塞紧试管口。并固定在铁架台上\n",
    "\n",
    "    操作5：点燃酒精灯加热\n",
    "    用火柴2点燃酒精灯\n",
    "\n",
    "    操作6：观察到有均匀气体冒出，收集气体\n",
    "    操作7：实验结束\n",
    "\"\"\""
   ]
  },
  {
   "cell_type": "code",
   "execution_count": 43,
   "metadata": {},
   "outputs": [],
   "source": [
    "# 使用 GPT API 分析文本，提取步骤  \n",
    "def get_gpt_parsed_steps(messages,text):  \n",
    "    try:  \n",
    "        # 确保此行使用的是 OpenAI 的官方 API  \n",
    "        response = client.chat.completions.create(\n",
    "            model=\"gpt-4o\",\n",
    "            messages=messages+ [  \n",
    "                {  \n",
    "                    \"role\": \"user\",  \n",
    "                    \"content\": \"请将以下文本转换为步骤，并解释每个步骤的思路链：\\n\" + text  \n",
    "                }  \n",
    "            ],\n",
    "            max_tokens=1000,\n",
    "            temperature=0\n",
    "        )\n",
    "        # 正确访问响应内容  \n",
    "        steps = response.choices[0].message.content\n",
    "        return steps  \n",
    "    except Exception as e:  \n",
    "        print(f\"Error during API call: {e}\")  \n",
    "        return []  "
   ]
  },
  {
   "cell_type": "code",
   "execution_count": 26,
   "metadata": {},
   "outputs": [
    {
     "name": "stdout",
     "output_type": "stream",
     "text": [
      "操作1：检查装置气密性\n",
      "    用火柴1点燃酒精灯，观察导管口是否会有连续、均匀气泡冒出 。\n",
      "\n",
      "    操作2：熄灭酒精灯进行正式制取实验过程\n",
      "    将酒精灯帽盖在酒精灯上。\n",
      "\n",
      "    操作3：取药品\n",
      "    打开装有高猛酸钾的塞，用药匙取高猛酸钾\n",
      "\n",
      "    操作4：装药品\n",
      "    将高锰酸钾药品平铺在试管底部，管口放一小团棉花，用带导管的单孔橡皮塞塞紧试管口。并固定在铁架台上\n",
      "\n",
      "    操作5：点燃酒精灯加热\n",
      "    用火柴2点燃酒精灯\n",
      "\n",
      "    操作6：观察到有均匀气体冒出，收集气体\n",
      "    操作7：实验结束\n",
      "\n",
      "流程图已生成并保存为 flowchart_1732341968.png\n"
     ]
    },
    {
     "data": {
      "image/png": "[encoded data removed]",
      "text/plain": [
       "<Figure size 640x480 with 1 Axes>"
      ]
     },
     "metadata": {},
     "output_type": "display_data"
    }
   ],
   "source": [
    "from graphviz import Digraph  \n",
    "import time  \n",
    "from PIL import Image  \n",
    "import matplotlib.pyplot as plt  \n",
    "\n",
    "def convert_to_graphviz_format(parsed_steps):  \n",
    "    dot = Digraph()  \n",
    "    dot.attr(fontname=\"Microsoft YaHei\")  # 设置图的全局字体  \n",
    "\n",
    "    for i, step in enumerate(parsed_steps):  \n",
    "        dot.node(f'step{i}', step.strip(), shape='box', style='filled', fillcolor='lightyellow', fontname='Microsoft YaHei')  \n",
    "        if i > 0:  # 如果不是第一步，连接到前一步  \n",
    "            dot.edge(f'step{i-1}', f'step{i}', fontname='Microsoft YaHei')  \n",
    "    return dot\n",
    "\n",
    "def create_flowchart(dot):  \n",
    "    filename = f'flowchart_{int(time.time())}'  \n",
    "    dot.render(filename, format='png', cleanup=True)  \n",
    "    print(f\"流程图已生成并保存为 {filename}.png\")  \n",
    "    display_flowchart(filename+\".png\")  # 显示生成的图片  \n",
    "\n",
    "def display_flowchart(filename):  \n",
    "    img = Image.open(filename)  \n",
    "    plt.imshow(img)  \n",
    "    plt.axis('off')  # 不显示坐标轴  \n",
    "    plt.show()  \n",
    "\n",
    "def text_2_flowchart(text):  \n",
    "    parsed_steps = get_gpt_parsed_steps(text)  \n",
    "    graphviz_format = convert_to_graphviz_format(parsed_steps)  \n",
    "    create_flowchart(graphviz_format)  \n",
    "\n",
    "# 调用主函数，传入要转换的文本  \n",
    "# text = \"在超市购物的步骤包括：1. 制定购物清单，2. 选择购物车，3. 在各个货架上挑选商品，4. 结账，5. 离开商店。\"  \n",
    "print(text)\n",
    "text_2_flowchart(text)"
   ]
  },
  {
   "cell_type": "code",
   "execution_count": null,
   "metadata": {},
   "outputs": [],
   "source": [
    "import re\n",
    "def preprocess_input(user_input):  \n",
    "    # 移除无关内容，保留主要提问  \n",
    "    cleaned_input = re.sub(r\"I want to create a|create a\", \"\", user_input, flags=re.IGNORECASE).strip()  \n",
    "    return cleaned_input  "
   ]
  },
  {
   "cell_type": "code",
   "execution_count": null,
   "metadata": {},
   "outputs": [],
   "source": [
    "def format_flowchart_steps(steps):  \n",
    "    formatted_steps = []  \n",
    "    for step in steps:  \n",
    "        # 移除任何多余的信息，只保留核心内容  \n",
    "        clean_step = re.sub(r\"Step \\d+:\\s*\", \"\", step).strip()  # 移除\"Step n:\"模式  \n",
    "        if clean_step:  \n",
    "            formatted_steps.append(clean_step)  \n",
    "    return formatted_steps  "
   ]
  }
 ],
 "metadata": {
  "kernelspec": {
   "display_name": "base",
   "language": "python",
   "name": "python3"
  },
  "language_info": {
   "codemirror_mode": {
    "name": "ipython",
    "version": 3
   },
   "file_extension": ".py",
   "mimetype": "text/x-python",
   "name": "python",
   "nbconvert_exporter": "python",
   "pygments_lexer": "ipython3",
   "version": "3.11.7"
  }
 },
 "nbformat": 4,
 "nbformat_minor": 2
}
