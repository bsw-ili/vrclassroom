{
 "cells": [
  {
   "cell_type": "code",
   "execution_count": 1,
   "metadata": {},
   "outputs": [
    {
     "data": {
      "text/plain": [
       "'sk-5Fyq40BGGYkhYSt5jszX4PFtzICEmKGYWDLuhLEjg9w7Wpuy'"
      ]
     },
     "execution_count": 1,
     "metadata": {},
     "output_type": "execute_result"
    }
   ],
   "source": [
    "# 导入LLM包装器\n",
    "from langchain import OpenAI,ConversationChain\n",
    "from langchain.agents import initialize_agent\n",
    "from langchain.agents import load_tools\n",
    "from langchain.chains import LLMChain\n",
    "from langchain.prompts import PromptTemplate\n",
    "import os\n",
    "openai_api_key = os.getenv(\"OPENAI_API_KEY\")\n",
    "openai_api_key"
   ]
  },
  {
   "cell_type": "code",
   "execution_count": 4,
   "metadata": {},
   "outputs": [
    {
     "name": "stderr",
     "output_type": "stream",
     "text": [
      "C:\\Users\\ye_kkk\\AppData\\Local\\Temp\\ipykernel_22016\\1270747689.py:2: LangChainDeprecationWarning: The class `OpenAI` was deprecated in LangChain 0.0.10 and will be removed in 1.0. An updated version of the class exists in the :class:`~langchain-openai package and should be used instead. To use it run `pip install -U :class:`~langchain-openai` and import as `from :class:`~langchain_openai import OpenAI``.\n",
      "  llm = OpenAI(temperature=0.9,api_key = openai_api_key,base_url= \"https://api.chatanywhere.tech/v1\")\n",
      "C:\\Users\\ye_kkk\\AppData\\Local\\Temp\\ipykernel_22016\\1270747689.py:7: LangChainDeprecationWarning: The class `LLMChain` was deprecated in LangChain 0.1.17 and will be removed in 1.0. Use :meth:`~RunnableSequence, e.g., `prompt | llm`` instead.\n",
      "  chain = LLMChain(llm=llm, prompt=prompt)\n"
     ]
    }
   ],
   "source": [
    "# 初始化包装器，temperature越高结果越随机\n",
    "llm = OpenAI(temperature=0.9,api_key = openai_api_key,base_url= \"https://api.chatanywhere.tech/v1\")\n",
    "prompt = PromptTemplate(\n",
    "    input_variables=[\"product\"],\n",
    "    template=\"What is a good name for a company that makes {product}?\",\n",
    ")\n",
    "chain = LLMChain(llm=llm, prompt=prompt)\n"
   ]
  },
  {
   "cell_type": "code",
   "execution_count": null,
   "metadata": {},
   "outputs": [],
   "source": [
    "# ConversationChain用法\n",
    "from langchain import OpenAI, ConversationChain\n",
    "\n",
    "# 初始化包装器，temperature越高结果越随机\n",
    "llm = OpenAI(\n",
    "            temperature=0.9,\n",
    "            api_key = openai_api_key,\n",
    "            base_url= \"https://api.chatanywhere.tech/v1\"\n",
    "    )\n",
    "conversation = ConversationChain(llm=llm, verbose=True) # （将verbose设置为True，以便我们可以看到提示）\n",
    " \n",
    "conversation.predict(input=\"Hi there!\")\n",
    "conversation.predict(input=\"I like you\")\n",
    "\n"
   ]
  }
 ],
 "metadata": {
  "kernelspec": {
   "display_name": "base",
   "language": "python",
   "name": "python3"
  },
  "language_info": {
   "codemirror_mode": {
    "name": "ipython",
    "version": 3
   },
   "file_extension": ".py",
   "mimetype": "text/x-python",
   "name": "python",
   "nbconvert_exporter": "python",
   "pygments_lexer": "ipython3",
   "version": "3.11.7"
  }
 },
 "nbformat": 4,
 "nbformat_minor": 2
}
